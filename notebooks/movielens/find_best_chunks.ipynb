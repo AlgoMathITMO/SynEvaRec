{
 "cells": [
  {
   "cell_type": "code",
   "execution_count": 1,
   "id": "a6c11f96",
   "metadata": {},
   "outputs": [],
   "source": [
    "import datetime\n",
    "import numpy as np\n",
    "import pandas as pd\n",
    "from numpy import random as npr\n",
    "\n",
    "from modules import utils"
   ]
  },
  {
   "cell_type": "code",
   "execution_count": 2,
   "id": "019c777a",
   "metadata": {},
   "outputs": [],
   "source": [
    "SEED = 2021\n",
    "REAL_DATASET_SAMPLE_SIZE = 1\n",
    "N_CHUNKS = 5\n",
    "npr.seed(SEED)"
   ]
  },
  {
   "cell_type": "code",
   "execution_count": 3,
   "id": "c45620e8",
   "metadata": {
    "scrolled": true
   },
   "outputs": [
    {
     "name": "stderr",
     "output_type": "stream",
     "text": [
      "WARNING:root:\n",
      "DeepCTR-PyTorch version 0.2.7 detected. Your version is 0.2.5.\n",
      "Use `pip install -U deepctr-torch` to upgrade.Changelog: https://github.com/shenweichen/DeepCTR-Torch/releases/tag/v0.2.7\n"
     ]
    },
    {
     "data": {
      "text/html": [
       "<div>\n",
       "<style scoped>\n",
       "    .dataframe tbody tr th:only-of-type {\n",
       "        vertical-align: middle;\n",
       "    }\n",
       "\n",
       "    .dataframe tbody tr th {\n",
       "        vertical-align: top;\n",
       "    }\n",
       "\n",
       "    .dataframe thead th {\n",
       "        text-align: right;\n",
       "    }\n",
       "</style>\n",
       "<table border=\"1\" class=\"dataframe\">\n",
       "  <thead>\n",
       "    <tr style=\"text-align: right;\">\n",
       "      <th></th>\n",
       "      <th>user_id</th>\n",
       "      <th>item_id</th>\n",
       "      <th>rating</th>\n",
       "      <th>timestamp</th>\n",
       "    </tr>\n",
       "  </thead>\n",
       "  <tbody>\n",
       "    <tr>\n",
       "      <th>16334</th>\n",
       "      <td>128</td>\n",
       "      <td>49</td>\n",
       "      <td>1.0</td>\n",
       "      <td>977434870</td>\n",
       "    </tr>\n",
       "    <tr>\n",
       "      <th>440002</th>\n",
       "      <td>2689</td>\n",
       "      <td>3238</td>\n",
       "      <td>0.8</td>\n",
       "      <td>973344429</td>\n",
       "    </tr>\n",
       "    <tr>\n",
       "      <th>296395</th>\n",
       "      <td>1757</td>\n",
       "      <td>3243</td>\n",
       "      <td>0.4</td>\n",
       "      <td>974790728</td>\n",
       "    </tr>\n",
       "    <tr>\n",
       "      <th>170347</th>\n",
       "      <td>1084</td>\n",
       "      <td>699</td>\n",
       "      <td>0.6</td>\n",
       "      <td>974941318</td>\n",
       "    </tr>\n",
       "    <tr>\n",
       "      <th>281936</th>\n",
       "      <td>1690</td>\n",
       "      <td>1132</td>\n",
       "      <td>0.6</td>\n",
       "      <td>974775705</td>\n",
       "    </tr>\n",
       "    <tr>\n",
       "      <th>...</th>\n",
       "      <td>...</td>\n",
       "      <td>...</td>\n",
       "      <td>...</td>\n",
       "      <td>...</td>\n",
       "    </tr>\n",
       "    <tr>\n",
       "      <th>133741</th>\n",
       "      <td>864</td>\n",
       "      <td>2400</td>\n",
       "      <td>0.6</td>\n",
       "      <td>975281400</td>\n",
       "    </tr>\n",
       "    <tr>\n",
       "      <th>476288</th>\n",
       "      <td>2925</td>\n",
       "      <td>218</td>\n",
       "      <td>0.8</td>\n",
       "      <td>1006658564</td>\n",
       "    </tr>\n",
       "    <tr>\n",
       "      <th>923705</th>\n",
       "      <td>5576</td>\n",
       "      <td>3451</td>\n",
       "      <td>0.2</td>\n",
       "      <td>959289879</td>\n",
       "    </tr>\n",
       "    <tr>\n",
       "      <th>224597</th>\n",
       "      <td>1357</td>\n",
       "      <td>575</td>\n",
       "      <td>0.8</td>\n",
       "      <td>974769790</td>\n",
       "    </tr>\n",
       "    <tr>\n",
       "      <th>91252</th>\n",
       "      <td>603</td>\n",
       "      <td>822</td>\n",
       "      <td>0.4</td>\n",
       "      <td>975871738</td>\n",
       "    </tr>\n",
       "  </tbody>\n",
       "</table>\n",
       "<p>1000209 rows × 4 columns</p>\n",
       "</div>"
      ],
      "text/plain": [
       "        user_id  item_id  rating   timestamp\n",
       "16334       128       49     1.0   977434870\n",
       "440002     2689     3238     0.8   973344429\n",
       "296395     1757     3243     0.4   974790728\n",
       "170347     1084      699     0.6   974941318\n",
       "281936     1690     1132     0.6   974775705\n",
       "...         ...      ...     ...         ...\n",
       "133741      864     2400     0.6   975281400\n",
       "476288     2925      218     0.8  1006658564\n",
       "923705     5576     3451     0.2   959289879\n",
       "224597     1357      575     0.8   974769790\n",
       "91252       603      822     0.4   975871738\n",
       "\n",
       "[1000209 rows x 4 columns]"
      ]
     },
     "execution_count": 3,
     "metadata": {},
     "output_type": "execute_result"
    }
   ],
   "source": [
    "rating_df = pd.read_csv(\"data/rating.csv\")\n",
    "rating_df = rating_df.sample(frac=REAL_DATASET_SAMPLE_SIZE)\n",
    "rating_df[\"rating\"] = rating_df[\"rating\"]\n",
    "rating_df"
   ]
  },
  {
   "cell_type": "code",
   "execution_count": 4,
   "id": "e18c9b76",
   "metadata": {},
   "outputs": [],
   "source": [
    "def evaluate(df):\n",
    "    errors = {\n",
    "        \"svd\": utils.evaluate_svd(df.copy(), rating_scale=(0, 1)),\n",
    "        \"knn\": utils.evaluate_knn(df.copy(), rating_scale=(0, 1)),\n",
    "        \"autorec\": utils.evaluate_autorec(df.copy())\n",
    "    }\n",
    "    return errors"
   ]
  },
  {
   "cell_type": "code",
   "execution_count": null,
   "id": "567f8a60",
   "metadata": {},
   "outputs": [
    {
     "name": "stdout",
     "output_type": "stream",
     "text": [
      "RMSE: 0.1963\n",
      "Computing the msd similarity matrix...\n",
      "Done computing similarity matrix.\n",
      "RMSE: 0.1981\n",
      "Load data finished. Number of users: 6034 Number of items: 3483\n",
      "IAutoRec.\n",
      "WARNING:tensorflow:From /root/.cache/pypoetry/virtualenvs/synevarec-TVdshFRi-py3.8/lib/python3.8/site-packages/tensorflow/python/ops/resource_variable_ops.py:1659: calling BaseResourceVariable.__init__ (from tensorflow.python.ops.resource_variable_ops) with constraint is deprecated and will be removed in a future version.\n",
      "Instructions for updating:\n",
      "If using Keras pass *_constraint arguments to layers.\n"
     ]
    },
    {
     "name": "stderr",
     "output_type": "stream",
     "text": [
      "2021-08-26 11:22:47.819217: I tensorflow/core/platform/cpu_feature_guard.cc:143] Your CPU supports instructions that this TensorFlow binary was not compiled to use: AVX2 AVX512F FMA\n",
      "2021-08-26 11:22:47.830770: I tensorflow/core/platform/profile_utils/cpu_utils.cc:102] CPU Frequency: 2494140000 Hz\n",
      "2021-08-26 11:22:47.832801: I tensorflow/compiler/xla/service/service.cc:168] XLA service 0x7f75ac000b60 initialized for platform Host (this does not guarantee that XLA will be used). Devices:\n",
      "2021-08-26 11:22:47.832824: I tensorflow/compiler/xla/service/service.cc:176]   StreamExecutor device (0): Host, Default Version\n",
      "2021-08-26 11:22:47.837011: W tensorflow/stream_executor/platform/default/dso_loader.cc:55] Could not load dynamic library 'libcuda.so.1'; dlerror: libcuda.so.1: cannot open shared object file: No such file or directory\n",
      "2021-08-26 11:22:47.837033: E tensorflow/stream_executor/cuda/cuda_driver.cc:313] failed call to cuInit: UNKNOWN ERROR (303)\n",
      "2021-08-26 11:22:47.837054: I tensorflow/stream_executor/cuda/cuda_diagnostics.cc:156] kernel driver does not appear to be running on this host (research-latest-4-m-2vcpu-16gb-ams3-01): /proc/driver/nvidia/version does not exist\n",
      "WARNING:tensorflow:From /root/.cache/pypoetry/virtualenvs/synevarec-TVdshFRi-py3.8/lib/python3.8/site-packages/tensorflow/python/ops/resource_variable_ops.py:1659: calling BaseResourceVariable.__init__ (from tensorflow.python.ops.resource_variable_ops) with constraint is deprecated and will be removed in a future version.\n",
      "Instructions for updating:\n",
      "If using Keras pass *_constraint arguments to layers.\n"
     ]
    },
    {
     "name": "stdout",
     "output_type": "stream",
     "text": [
      "WARNING:tensorflow:From /root/ws/SynEvaRec/modules/modules/models.py:103: calling dropout (from tensorflow.python.ops.nn_ops) with keep_prob is deprecated and will be removed in a future version.\n",
      "Instructions for updating:\n",
      "Please use `rate` instead of `keep_prob`. Rate should be set to `rate = 1 - keep_prob`.\n"
     ]
    },
    {
     "name": "stderr",
     "output_type": "stream",
     "text": [
      "WARNING:tensorflow:From /root/ws/SynEvaRec/modules/modules/models.py:103: calling dropout (from tensorflow.python.ops.nn_ops) with keep_prob is deprecated and will be removed in a future version.\n",
      "Instructions for updating:\n",
      "Please use `rate` instead of `keep_prob`. Rate should be set to `rate = 1 - keep_prob`.\n"
     ]
    },
    {
     "name": "stdout",
     "output_type": "stream",
     "text": [
      "Network built\n",
      "Epoch: 0000; RMSE:0.3614998750848397; MAE:0.3026073585765083\n",
      "Epoch: 0003; RMSE:0.24343916324525028; MAE:0.18918725413818357\n",
      "Epoch: 0006; RMSE:0.2072519699562346; MAE:0.16249212706561916\n",
      "Epoch: 0009; RMSE:0.20163269765771447; MAE:0.1598107518264304\n",
      "Epoch: 0012; RMSE:0.1991688485752722; MAE:0.1582988678143831\n",
      "Epoch: 0015; RMSE:0.19854040338378426; MAE:0.15703645876679892\n",
      "Epoch: 0018; RMSE:0.19873700834689106; MAE:0.1570683672879768\n",
      "Epoch: 0021; RMSE:0.19781636363418173; MAE:0.15590163126470533\n",
      "Epoch: 0024; RMSE:0.19649345583401048; MAE:0.1552357591598913\n",
      "Epoch: 0027; RMSE:0.19681667310431483; MAE:0.15564839287187296\n",
      "Epoch: 0030; RMSE:0.19589018773671993; MAE:0.15441066273824727\n",
      "Epoch: 0033; RMSE:0.19637675942092145; MAE:0.15503956001187086\n",
      "Epoch: 0036; RMSE:0.19479341589913177; MAE:0.15379838801268925\n",
      "Epoch: 0039; RMSE:0.19436737989986413; MAE:0.1536160847782264\n",
      "Epoch: 0042; RMSE:0.19344808749984604; MAE:0.15296829165214126\n",
      "Epoch: 0045; RMSE:0.1934531243412405; MAE:0.15283763800076813\n",
      "Epoch: 0048; RMSE:0.19275623186037613; MAE:0.1523856360014749\n",
      "Epoch: 0051; RMSE:0.19243398060099492; MAE:0.15201212865433536\n",
      "Epoch: 0054; RMSE:0.19318631485342516; MAE:0.1527593408486409\n",
      "Epoch: 0057; RMSE:0.19266919571484714; MAE:0.1523794242305942\n",
      "Epoch: 0060; RMSE:0.19227985586342966; MAE:0.15211918488209217\n",
      "Epoch: 0063; RMSE:0.19231770921056288; MAE:0.15223961259867724\n",
      "Epoch: 0066; RMSE:0.1929080304545815; MAE:0.15259143699017916\n",
      "Epoch: 0069; RMSE:0.1925915269011762; MAE:0.15236225580846016\n",
      "Epoch: 0072; RMSE:0.19259972332808714; MAE:0.15229603641465672\n",
      "Epoch: 0075; RMSE:0.19141229275926086; MAE:0.15086460284934874\n",
      "Epoch: 0078; RMSE:0.1924564045991796; MAE:0.15222512289023796\n",
      "Epoch: 0081; RMSE:0.19234532133896615; MAE:0.1522096322893482\n",
      "Epoch: 0084; RMSE:0.1921976842315837; MAE:0.15215728210127086\n",
      "Epoch: 0087; RMSE:0.19271421378330722; MAE:0.1527281223045577\n",
      "Epoch: 0090; RMSE:0.19240433222228753; MAE:0.15220206963505487\n",
      "Epoch: 0093; RMSE:0.19300051219010417; MAE:0.1525845719208228\n",
      "Epoch: 0096; RMSE:0.19308561739716848; MAE:0.15282357898783144\n",
      "Epoch: 0099; RMSE:0.19327595320299354; MAE:0.15295130350526734\n",
      "Epoch: 0102; RMSE:0.19224087923533448; MAE:0.15194452197753044\n",
      "Epoch: 0105; RMSE:0.1935459021620552; MAE:0.15346584656801243\n",
      "Epoch: 0108; RMSE:0.19314215053698341; MAE:0.15323872380197515\n",
      "Epoch: 0111; RMSE:0.19306892044827775; MAE:0.15291827240523123\n",
      "Epoch: 0114; RMSE:0.19328972471200523; MAE:0.15302303648439022\n",
      "Epoch: 0117; RMSE:0.1935464047549023; MAE:0.15332821684321354\n",
      "Epoch: 0120; RMSE:0.19312261471680128; MAE:0.15266304670165243\n",
      "Epoch: 0123; RMSE:0.19335202422455613; MAE:0.15288611930835314\n",
      "Epoch: 0126; RMSE:0.1941463361895388; MAE:0.1538397008621262\n",
      "Epoch: 0129; RMSE:0.193771404194688; MAE:0.15328897949942735\n",
      "Epoch: 0132; RMSE:0.19465740522754885; MAE:0.1543403380219354\n",
      "Epoch: 0135; RMSE:0.1944029152258091; MAE:0.15379856426632454\n",
      "Epoch: 0138; RMSE:0.19405057681668675; MAE:0.1537712381600124\n",
      "Epoch: 0141; RMSE:0.1957147658180757; MAE:0.1551613757786385\n"
     ]
    }
   ],
   "source": [
    "%%time\n",
    "npr.seed(SEED)\n",
    "parts = np.array_split(rating_df, N_CHUNKS)\n",
    "error_logs = []\n",
    "\n",
    "\n",
    "for i, part in enumerate(parts):\n",
    "    start = datetime.datetime.utcnow()    \n",
    "    part = utils.map_idx_to_matrix_indices(part)\n",
    "    error = evaluate(part)\n",
    "    error_logs.append({\"part\": i, \"error\": error})\n",
    "    duration = datetime.datetime.utcnow() - start\n",
    "    print(f\"Part {i} processed within {duration}\")\n",
    "    \n"
   ]
  },
  {
   "cell_type": "code",
   "execution_count": null,
   "id": "999a3a5f",
   "metadata": {},
   "outputs": [],
   "source": [
    "[len(p) for p in parts]"
   ]
  },
  {
   "cell_type": "code",
   "execution_count": null,
   "id": "c7e91e1b",
   "metadata": {},
   "outputs": [],
   "source": [
    "error_logs"
   ]
  },
  {
   "cell_type": "code",
   "execution_count": null,
   "id": "ad1ce766",
   "metadata": {},
   "outputs": [],
   "source": [
    "errors = []\n",
    "for e in error_logs:\n",
    "    for k, v in e[\"error\"].items():\n",
    "        errors.append({\"part\": e[\"part\"], \"error\": v, \"model\": k})\n",
    "    "
   ]
  },
  {
   "cell_type": "code",
   "execution_count": null,
   "id": "0d443565",
   "metadata": {
    "scrolled": true
   },
   "outputs": [],
   "source": [
    "error_df = pd.DataFrame(errors)\n",
    "error_df"
   ]
  },
  {
   "cell_type": "code",
   "execution_count": null,
   "id": "d1c6a01d",
   "metadata": {},
   "outputs": [],
   "source": [
    "error_df.to_csv(\"./cache/find_best_chunks_results_5_parts.csv\", index=False)"
   ]
  },
  {
   "cell_type": "code",
   "execution_count": null,
   "id": "2b6944b3",
   "metadata": {},
   "outputs": [],
   "source": [
    "import seaborn as sns\n",
    "from matplotlib import pyplot as plt\n",
    "\n",
    "sns.set(rc={'figure.figsize':(11.7,8.27)})\n",
    "sns.barplot(data=error_df, x=\"part\", y=\"error\", hue=\"model\")"
   ]
  },
  {
   "cell_type": "code",
   "execution_count": null,
   "id": "530633b0",
   "metadata": {},
   "outputs": [],
   "source": []
  }
 ],
 "metadata": {
  "interpreter": {
   "hash": "b3e1161755073e6513cb605fe52f527cb9d24a6594f5d14054f4b26b83b3f169"
  },
  "kernelspec": {
   "display_name": "Python 3 (ipykernel)",
   "language": "python",
   "name": "python3"
  },
  "language_info": {
   "codemirror_mode": {
    "name": "ipython",
    "version": 3
   },
   "file_extension": ".py",
   "mimetype": "text/x-python",
   "name": "python",
   "nbconvert_exporter": "python",
   "pygments_lexer": "ipython3",
   "version": "3.8.10"
  }
 },
 "nbformat": 4,
 "nbformat_minor": 5
}
