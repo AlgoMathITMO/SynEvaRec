{
 "cells": [
  {
   "cell_type": "code",
   "execution_count": 1,
   "id": "958ba6f4",
   "metadata": {},
   "outputs": [],
   "source": [
    "import pandas as pd\n",
    "from numpy import random as npr\n",
    "from modules import utils"
   ]
  },
  {
   "cell_type": "code",
   "execution_count": 2,
   "id": "5c30d696",
   "metadata": {},
   "outputs": [],
   "source": [
    "SEED = 2021\n",
    "npr.seed(SEED)"
   ]
  },
  {
   "cell_type": "code",
   "execution_count": 3,
   "id": "b24d30d7",
   "metadata": {},
   "outputs": [
    {
     "name": "stderr",
     "output_type": "stream",
     "text": [
      "WARNING:root:\n",
      "DeepCTR-PyTorch version 0.2.7 detected. Your version is 0.2.5.\n",
      "Use `pip install -U deepctr-torch` to upgrade.Changelog: https://github.com/shenweichen/DeepCTR-Torch/releases/tag/v0.2.7\n"
     ]
    },
    {
     "data": {
      "text/html": [
       "<div>\n",
       "<style scoped>\n",
       "    .dataframe tbody tr th:only-of-type {\n",
       "        vertical-align: middle;\n",
       "    }\n",
       "\n",
       "    .dataframe tbody tr th {\n",
       "        vertical-align: top;\n",
       "    }\n",
       "\n",
       "    .dataframe thead th {\n",
       "        text-align: right;\n",
       "    }\n",
       "</style>\n",
       "<table border=\"1\" class=\"dataframe\">\n",
       "  <thead>\n",
       "    <tr style=\"text-align: right;\">\n",
       "      <th></th>\n",
       "      <th>user_id</th>\n",
       "      <th>item_id</th>\n",
       "      <th>rating</th>\n",
       "      <th>timestamp</th>\n",
       "    </tr>\n",
       "  </thead>\n",
       "  <tbody>\n",
       "    <tr>\n",
       "      <th>0</th>\n",
       "      <td>0</td>\n",
       "      <td>1104</td>\n",
       "      <td>1.0</td>\n",
       "      <td>978300760</td>\n",
       "    </tr>\n",
       "    <tr>\n",
       "      <th>1</th>\n",
       "      <td>0</td>\n",
       "      <td>639</td>\n",
       "      <td>0.6</td>\n",
       "      <td>978302109</td>\n",
       "    </tr>\n",
       "    <tr>\n",
       "      <th>2</th>\n",
       "      <td>0</td>\n",
       "      <td>853</td>\n",
       "      <td>0.6</td>\n",
       "      <td>978301968</td>\n",
       "    </tr>\n",
       "    <tr>\n",
       "      <th>3</th>\n",
       "      <td>0</td>\n",
       "      <td>3177</td>\n",
       "      <td>0.8</td>\n",
       "      <td>978300275</td>\n",
       "    </tr>\n",
       "    <tr>\n",
       "      <th>4</th>\n",
       "      <td>0</td>\n",
       "      <td>2162</td>\n",
       "      <td>1.0</td>\n",
       "      <td>978824291</td>\n",
       "    </tr>\n",
       "    <tr>\n",
       "      <th>...</th>\n",
       "      <td>...</td>\n",
       "      <td>...</td>\n",
       "      <td>...</td>\n",
       "      <td>...</td>\n",
       "    </tr>\n",
       "    <tr>\n",
       "      <th>1000204</th>\n",
       "      <td>6039</td>\n",
       "      <td>1019</td>\n",
       "      <td>0.2</td>\n",
       "      <td>956716541</td>\n",
       "    </tr>\n",
       "    <tr>\n",
       "      <th>1000205</th>\n",
       "      <td>6039</td>\n",
       "      <td>1022</td>\n",
       "      <td>1.0</td>\n",
       "      <td>956704887</td>\n",
       "    </tr>\n",
       "    <tr>\n",
       "      <th>1000206</th>\n",
       "      <td>6039</td>\n",
       "      <td>548</td>\n",
       "      <td>1.0</td>\n",
       "      <td>956704746</td>\n",
       "    </tr>\n",
       "    <tr>\n",
       "      <th>1000207</th>\n",
       "      <td>6039</td>\n",
       "      <td>1024</td>\n",
       "      <td>0.8</td>\n",
       "      <td>956715648</td>\n",
       "    </tr>\n",
       "    <tr>\n",
       "      <th>1000208</th>\n",
       "      <td>6039</td>\n",
       "      <td>1025</td>\n",
       "      <td>0.8</td>\n",
       "      <td>956715569</td>\n",
       "    </tr>\n",
       "  </tbody>\n",
       "</table>\n",
       "<p>1000209 rows × 4 columns</p>\n",
       "</div>"
      ],
      "text/plain": [
       "         user_id  item_id  rating  timestamp\n",
       "0              0     1104     1.0  978300760\n",
       "1              0      639     0.6  978302109\n",
       "2              0      853     0.6  978301968\n",
       "3              0     3177     0.8  978300275\n",
       "4              0     2162     1.0  978824291\n",
       "...          ...      ...     ...        ...\n",
       "1000204     6039     1019     0.2  956716541\n",
       "1000205     6039     1022     1.0  956704887\n",
       "1000206     6039      548     1.0  956704746\n",
       "1000207     6039     1024     0.8  956715648\n",
       "1000208     6039     1025     0.8  956715569\n",
       "\n",
       "[1000209 rows x 4 columns]"
      ]
     },
     "execution_count": 3,
     "metadata": {},
     "output_type": "execute_result"
    }
   ],
   "source": [
    "df = pd.read_csv(\"data/rating.csv\")\n",
    "df"
   ]
  },
  {
   "cell_type": "code",
   "execution_count": 4,
   "id": "5cdcbffa",
   "metadata": {},
   "outputs": [
    {
     "data": {
      "text/plain": [
       "6040"
      ]
     },
     "execution_count": 4,
     "metadata": {},
     "output_type": "execute_result"
    }
   ],
   "source": [
    "len(df.user_id.unique())"
   ]
  },
  {
   "cell_type": "code",
   "execution_count": 5,
   "id": "fd976544",
   "metadata": {},
   "outputs": [
    {
     "data": {
      "text/plain": [
       "3706"
      ]
     },
     "execution_count": 5,
     "metadata": {},
     "output_type": "execute_result"
    }
   ],
   "source": [
    "len(df.item_id.unique())"
   ]
  },
  {
   "cell_type": "code",
   "execution_count": 6,
   "id": "a1ae74a0",
   "metadata": {},
   "outputs": [
    {
     "data": {
      "text/plain": [
       "3705"
      ]
     },
     "execution_count": 6,
     "metadata": {},
     "output_type": "execute_result"
    }
   ],
   "source": [
    "df.item_id.max()"
   ]
  },
  {
   "cell_type": "code",
   "execution_count": 7,
   "id": "b5835a9f",
   "metadata": {},
   "outputs": [],
   "source": [
    "df[\"rating\"] = df[\"rating\"] * 5"
   ]
  },
  {
   "cell_type": "code",
   "execution_count": 8,
   "id": "9d11bd4a",
   "metadata": {
    "scrolled": true
   },
   "outputs": [
    {
     "name": "stdout",
     "output_type": "stream",
     "text": [
      "Load data finished. Number of users: 6040 Number of items: 3706\n",
      "IAutoRec.\n",
      "WARNING:tensorflow:From /root/.cache/pypoetry/virtualenvs/synevarec-TVdshFRi-py3.8/lib/python3.8/site-packages/tensorflow/python/ops/resource_variable_ops.py:1659: calling BaseResourceVariable.__init__ (from tensorflow.python.ops.resource_variable_ops) with constraint is deprecated and will be removed in a future version.\n",
      "Instructions for updating:\n",
      "If using Keras pass *_constraint arguments to layers.\n"
     ]
    },
    {
     "name": "stderr",
     "output_type": "stream",
     "text": [
      "2021-08-30 10:28:59.572943: I tensorflow/core/platform/cpu_feature_guard.cc:143] Your CPU supports instructions that this TensorFlow binary was not compiled to use: AVX2 AVX512F FMA\n",
      "2021-08-30 10:28:59.583424: I tensorflow/core/platform/profile_utils/cpu_utils.cc:102] CPU Frequency: 2494140000 Hz\n",
      "2021-08-30 10:28:59.583680: I tensorflow/compiler/xla/service/service.cc:168] XLA service 0x7f4be0000fa0 initialized for platform Host (this does not guarantee that XLA will be used). Devices:\n",
      "2021-08-30 10:28:59.583697: I tensorflow/compiler/xla/service/service.cc:176]   StreamExecutor device (0): Host, Default Version\n",
      "2021-08-30 10:28:59.585645: W tensorflow/stream_executor/platform/default/dso_loader.cc:55] Could not load dynamic library 'libcuda.so.1'; dlerror: libcuda.so.1: cannot open shared object file: No such file or directory\n",
      "2021-08-30 10:28:59.585662: E tensorflow/stream_executor/cuda/cuda_driver.cc:313] failed call to cuInit: UNKNOWN ERROR (303)\n",
      "2021-08-30 10:28:59.585680: I tensorflow/stream_executor/cuda/cuda_diagnostics.cc:156] kernel driver does not appear to be running on this host (research-latest-5-m-2vcpu-16gb-ams3-01): /proc/driver/nvidia/version does not exist\n",
      "WARNING:tensorflow:From /root/.cache/pypoetry/virtualenvs/synevarec-TVdshFRi-py3.8/lib/python3.8/site-packages/tensorflow/python/ops/resource_variable_ops.py:1659: calling BaseResourceVariable.__init__ (from tensorflow.python.ops.resource_variable_ops) with constraint is deprecated and will be removed in a future version.\n",
      "Instructions for updating:\n",
      "If using Keras pass *_constraint arguments to layers.\n"
     ]
    },
    {
     "name": "stdout",
     "output_type": "stream",
     "text": [
      "WARNING:tensorflow:From /root/ws/SynEvaRec/modules/modules/models.py:103: calling dropout (from tensorflow.python.ops.nn_ops) with keep_prob is deprecated and will be removed in a future version.\n",
      "Instructions for updating:\n",
      "Please use `rate` instead of `keep_prob`. Rate should be set to `rate = 1 - keep_prob`.\n"
     ]
    },
    {
     "name": "stderr",
     "output_type": "stream",
     "text": [
      "WARNING:tensorflow:From /root/ws/SynEvaRec/modules/modules/models.py:103: calling dropout (from tensorflow.python.ops.nn_ops) with keep_prob is deprecated and will be removed in a future version.\n",
      "Instructions for updating:\n",
      "Please use `rate` instead of `keep_prob`. Rate should be set to `rate = 1 - keep_prob`.\n"
     ]
    },
    {
     "name": "stdout",
     "output_type": "stream",
     "text": [
      "Network built\n",
      "Epoch: 0000; RMSE:0.24628387771893945; MAE:0.19355145833575602\n",
      "Epoch: 0003; RMSE:0.20656381436976112; MAE:0.16844165161106323\n",
      "Epoch: 0006; RMSE:0.19070327633114725; MAE:0.1518583338291954\n",
      "Epoch: 0009; RMSE:0.18689742412021004; MAE:0.14725530653904909\n",
      "Epoch: 0012; RMSE:0.18479173481975505; MAE:0.1461720067667401\n",
      "Epoch: 0015; RMSE:0.1828398413107481; MAE:0.1443402499749406\n",
      "Epoch: 0018; RMSE:0.18143200844438165; MAE:0.14318621410283194\n",
      "Epoch: 0021; RMSE:0.1801921245187979; MAE:0.14203399423092672\n",
      "Epoch: 0024; RMSE:0.17889022725990822; MAE:0.14114426178221798\n",
      "Epoch: 0027; RMSE:0.17760303431919874; MAE:0.1397628282321553\n",
      "Epoch: 0030; RMSE:0.17644838433791496; MAE:0.13888471812768538\n",
      "Epoch: 0033; RMSE:0.17571264944197393; MAE:0.13793180903961308\n",
      "Epoch: 0036; RMSE:0.1749452975326694; MAE:0.13730216392764455\n",
      "Epoch: 0039; RMSE:0.1743532218874935; MAE:0.13700120556386533\n",
      "Epoch: 0042; RMSE:0.17405233190774558; MAE:0.1367200061333443\n",
      "Epoch: 0045; RMSE:0.17348220071587017; MAE:0.13583834212394275\n",
      "Epoch: 0048; RMSE:0.17325875606742447; MAE:0.1358785237092431\n",
      "Epoch: 0051; RMSE:0.1729593769150225; MAE:0.13551953709362505\n",
      "Epoch: 0054; RMSE:0.17281809029725256; MAE:0.13554356261692288\n",
      "Epoch: 0057; RMSE:0.17223706084686777; MAE:0.13464619135844583\n",
      "Epoch: 0060; RMSE:0.17203238482406308; MAE:0.13467173854105977\n",
      "Epoch: 0063; RMSE:0.17211635693570504; MAE:0.13460450924786305\n",
      "Epoch: 0066; RMSE:0.17213187289370707; MAE:0.1349207998411204\n",
      "Epoch: 0069; RMSE:0.17200035328414345; MAE:0.13454985495389687\n",
      "Epoch: 0072; RMSE:0.17179290591154694; MAE:0.13406222505597395\n",
      "Epoch: 0075; RMSE:0.17183666256436445; MAE:0.13400447648943778\n",
      "Epoch: 0078; RMSE:0.17188250317343692; MAE:0.13409159396516246\n",
      "Epoch: 0081; RMSE:0.17192476676157933; MAE:0.13390706647181916\n",
      "Epoch: 0084; RMSE:0.17217852035556597; MAE:0.13422539130014502\n",
      "Epoch: 0087; RMSE:0.17231240916241933; MAE:0.1344591613077183\n",
      "Epoch: 0090; RMSE:0.17227418876025047; MAE:0.1341280826247223\n",
      "Epoch: 0093; RMSE:0.1724471000043162; MAE:0.13467030606247768\n",
      "Epoch: 0096; RMSE:0.17284837437104747; MAE:0.13511658294009452\n",
      "Epoch: 0099; RMSE:0.1728110872385159; MAE:0.13471263362867317\n",
      "Epoch: 0102; RMSE:0.1730509529568498; MAE:0.13491757910206992\n",
      "Epoch: 0105; RMSE:0.17318170688274218; MAE:0.13489416436379464\n",
      "Epoch: 0108; RMSE:0.17376531308064877; MAE:0.13580458302479537\n",
      "Epoch: 0111; RMSE:0.17382316320405927; MAE:0.13551944633055876\n",
      "Epoch: 0114; RMSE:0.17380725080112852; MAE:0.13548663002802763\n",
      "Epoch: 0117; RMSE:0.17403156572262893; MAE:0.13566131873224702\n",
      "Epoch: 0120; RMSE:0.17441810669414853; MAE:0.13617779324387994\n",
      "Epoch: 0123; RMSE:0.1750899288288927; MAE:0.13674906170128892\n",
      "Epoch: 0126; RMSE:0.17508963493077664; MAE:0.13667833854225786\n",
      "Epoch: 0129; RMSE:0.17508241842379693; MAE:0.13646429483526767\n",
      "Epoch: 0132; RMSE:0.17548370915993267; MAE:0.13679367231277745\n",
      "Epoch: 0135; RMSE:0.17573016064167338; MAE:0.13668902542787523\n",
      "Epoch: 0138; RMSE:0.17586282064302536; MAE:0.13699447713703583\n",
      "Epoch: 0141; RMSE:0.17686717186117032; MAE:0.13819128196451258\n",
      "Epoch: 0144; RMSE:0.17827146727843177; MAE:0.13980064571651618\n",
      "Epoch: 0147; RMSE:0.1770767661951251; MAE:0.13817501047749983\n",
      "Epoch: 0150; RMSE:0.1771355826757731; MAE:0.13820530659385102\n",
      "Epoch: 0153; RMSE:0.17703751089006992; MAE:0.13787995297140435\n",
      "Epoch: 0156; RMSE:0.17710353854231561; MAE:0.13787284781754638\n",
      "Epoch: 0159; RMSE:0.17797856603141612; MAE:0.1390015822134992\n",
      "Epoch: 0162; RMSE:0.17886947187231111; MAE:0.14006066299383355\n",
      "Epoch: 0165; RMSE:0.1781708263945656; MAE:0.13913313039861663\n",
      "Epoch: 0168; RMSE:0.1785681034401617; MAE:0.1394774875928163\n",
      "Epoch: 0171; RMSE:0.178846374701046; MAE:0.13968609428382298\n",
      "Epoch: 0174; RMSE:0.17910078352802355; MAE:0.13996956740234054\n",
      "Epoch: 0177; RMSE:0.1796607311533886; MAE:0.1404594235577289\n",
      "Epoch: 0180; RMSE:0.17901008107261124; MAE:0.13961130089022067\n",
      "Epoch: 0183; RMSE:0.17926279573022771; MAE:0.13973040041231538\n",
      "Epoch: 0186; RMSE:0.1797186848390179; MAE:0.14023709181976843\n",
      "Epoch: 0189; RMSE:0.18032466841757777; MAE:0.14108204979518024\n",
      "Epoch: 0192; RMSE:0.17986681441190583; MAE:0.140217499194065\n",
      "Epoch: 0195; RMSE:0.18078672205743165; MAE:0.14154711695567032\n",
      "Epoch: 0198; RMSE:0.18140246579738079; MAE:0.1420099824913528\n",
      "Epoch: 0201; RMSE:0.1818974879503426; MAE:0.1425397695662256\n",
      "Epoch: 0204; RMSE:0.18092580712132544; MAE:0.141370392320937\n",
      "Epoch: 0207; RMSE:0.18063351222936672; MAE:0.141040797194484\n",
      "Epoch: 0210; RMSE:0.18066235561808291; MAE:0.1410844553415309\n",
      "Epoch: 0213; RMSE:0.18067346443585128; MAE:0.14106681729163784\n",
      "Epoch: 0216; RMSE:0.18170671260294433; MAE:0.14218402381011871\n",
      "Epoch: 0219; RMSE:0.18139151255790484; MAE:0.14154236737969692\n",
      "Epoch: 0222; RMSE:0.18272418211427097; MAE:0.1433220895418258\n",
      "Epoch: 0225; RMSE:0.1821653550510962; MAE:0.1425798389868332\n",
      "Epoch: 0228; RMSE:0.18155604334500125; MAE:0.14179455038425418\n",
      "Epoch: 0231; RMSE:0.18250079166680785; MAE:0.1429201516496285\n",
      "Epoch: 0234; RMSE:0.18173397343408043; MAE:0.14200461686369192\n",
      "Epoch: 0237; RMSE:0.1818269574327122; MAE:0.1419634269126871\n",
      "Epoch: 0240; RMSE:0.182242005925484; MAE:0.14241204048025458\n",
      "Epoch: 0243; RMSE:0.18215061935373403; MAE:0.14217355870635418\n",
      "Epoch: 0246; RMSE:0.18268067973089275; MAE:0.1428681074044878\n",
      "Epoch: 0249; RMSE:0.18297292464403284; MAE:0.14325896772308594\n",
      "Epoch: 0252; RMSE:0.18393462553830459; MAE:0.14418758023666453\n",
      "Epoch: 0255; RMSE:0.1832178234020732; MAE:0.1434236335095033\n",
      "Epoch: 0258; RMSE:0.18336515843856285; MAE:0.14343326298562975\n",
      "Epoch: 0261; RMSE:0.18410778146382348; MAE:0.14426334261064594\n",
      "Epoch: 0264; RMSE:0.1841630412537705; MAE:0.1443731363702831\n",
      "Epoch: 0267; RMSE:0.18415068124726036; MAE:0.1444326506235149\n",
      "Epoch: 0270; RMSE:0.18361431414014046; MAE:0.14364167815699444\n",
      "Epoch: 0273; RMSE:0.18355872793027597; MAE:0.1435764271004115\n",
      "Epoch: 0276; RMSE:0.18345125240055538; MAE:0.14332160927806323\n",
      "Epoch: 0279; RMSE:0.1846083547980477; MAE:0.14467829108085387\n",
      "Epoch: 0282; RMSE:0.183905711102998; MAE:0.14386008873218575\n",
      "Epoch: 0285; RMSE:0.1846154696548315; MAE:0.14456557458798017\n",
      "Epoch: 0288; RMSE:0.1849311358736263; MAE:0.14493242881206536\n",
      "Epoch: 0291; RMSE:0.1842248169306574; MAE:0.14426328149591283\n",
      "Epoch: 0294; RMSE:0.18455239681271673; MAE:0.14450668738956732\n",
      "Epoch: 0297; RMSE:0.1847045629282629; MAE:0.14463429706813077\n",
      "Epoch: 0300; RMSE:0.18417078691217248; MAE:0.14394590644534255\n",
      "Epoch: 0303; RMSE:0.1866643528349967; MAE:0.14683387684539684\n",
      "Epoch: 0306; RMSE:0.1854164496209539; MAE:0.14543374920860297\n",
      "Epoch: 0309; RMSE:0.18514270225037094; MAE:0.1450284479347966\n",
      "Epoch: 0312; RMSE:0.18525770672358882; MAE:0.14516851556643018\n",
      "Epoch: 0315; RMSE:0.18475332895576485; MAE:0.14446626937730278\n",
      "Epoch: 0318; RMSE:0.18577003155936203; MAE:0.14565345657536463\n",
      "Epoch: 0321; RMSE:0.18466300961012075; MAE:0.14429756664824933\n",
      "Epoch: 0324; RMSE:0.1869660211448368; MAE:0.14695873177763166\n",
      "Epoch: 0327; RMSE:0.18650936723284464; MAE:0.14639515554943172\n",
      "Epoch: 0330; RMSE:0.18594527658804227; MAE:0.14572327044031338\n",
      "Epoch: 0333; RMSE:0.185601123162297; MAE:0.14537393234905213\n",
      "Epoch: 0336; RMSE:0.18642529348145806; MAE:0.146158533629184\n",
      "Epoch: 0339; RMSE:0.1849159341153647; MAE:0.14448824545477743\n",
      "Epoch: 0342; RMSE:0.18582645833062447; MAE:0.1456574602177878\n",
      "Epoch: 0345; RMSE:0.18677148525505027; MAE:0.146492869832275\n",
      "Epoch: 0348; RMSE:0.18577190342829009; MAE:0.14546644890097765\n",
      "Epoch: 0351; RMSE:0.1867397641744729; MAE:0.14630050082865123\n",
      "Epoch: 0354; RMSE:0.18732868925927998; MAE:0.14717906905858213\n",
      "Epoch: 0357; RMSE:0.18602739894062648; MAE:0.1456915573037955\n",
      "Epoch: 0360; RMSE:0.18556710711794616; MAE:0.14521808067480985\n",
      "Epoch: 0363; RMSE:0.18784156949174682; MAE:0.14741453066640717\n",
      "Epoch: 0366; RMSE:0.1857173317644778; MAE:0.14519727043017047\n",
      "Epoch: 0369; RMSE:0.18539643707557232; MAE:0.14497368856063667\n",
      "Epoch: 0372; RMSE:0.18639218242840488; MAE:0.14603409557228048\n",
      "Epoch: 0375; RMSE:0.18710419589698163; MAE:0.14689059059636358\n",
      "Epoch: 0378; RMSE:0.18576849108142868; MAE:0.14537938970541792\n",
      "Epoch: 0381; RMSE:0.18718357676434463; MAE:0.146724380748811\n",
      "Epoch: 0384; RMSE:0.18665311104206683; MAE:0.14631134636838763\n",
      "Epoch: 0387; RMSE:0.1868493787162989; MAE:0.1464908305581629\n",
      "Epoch: 0390; RMSE:0.18634250860372084; MAE:0.14563525761280496\n"
     ]
    },
    {
     "name": "stdout",
     "output_type": "stream",
     "text": [
      "Epoch: 0393; RMSE:0.18620225074340568; MAE:0.14562384948865956\n",
      "Epoch: 0396; RMSE:0.1876799799447199; MAE:0.14717540634458132\n",
      "Epoch: 0399; RMSE:0.18666033932111006; MAE:0.14596584966082232\n",
      "Epoch: 0402; RMSE:0.18805120847055007; MAE:0.14780037206834357\n",
      "Epoch: 0405; RMSE:0.1866580379517346; MAE:0.1460436684781411\n",
      "Epoch: 0408; RMSE:0.18798434818534704; MAE:0.14764390531464425\n",
      "Epoch: 0411; RMSE:0.18714368622042152; MAE:0.146568045233926\n",
      "Epoch: 0414; RMSE:0.18727670392607815; MAE:0.14664963173783632\n",
      "Epoch: 0417; RMSE:0.18659618761563268; MAE:0.14588710915950112\n",
      "Epoch: 0420; RMSE:0.18713613052801728; MAE:0.14666310862455548\n",
      "Epoch: 0423; RMSE:0.18956825738888197; MAE:0.1489692440090474\n",
      "Epoch: 0426; RMSE:0.18853178623363287; MAE:0.14807850324849225\n",
      "Epoch: 0429; RMSE:0.18657762163554514; MAE:0.14520386322746098\n",
      "Epoch: 0432; RMSE:0.18673304627539053; MAE:0.1458724612223191\n",
      "Epoch: 0435; RMSE:0.18723554587586225; MAE:0.14638851396764446\n",
      "Epoch: 0438; RMSE:0.18769632955071686; MAE:0.14714286257544004\n",
      "Epoch: 0441; RMSE:0.18955754527881438; MAE:0.14908881985111516\n",
      "Epoch: 0444; RMSE:0.18811294831428763; MAE:0.147514938708475\n",
      "Epoch: 0447; RMSE:0.18744245762158976; MAE:0.14674154841642215\n",
      "Epoch: 0450; RMSE:0.18762122245569898; MAE:0.14709889360982725\n",
      "Epoch: 0453; RMSE:0.18914122223840335; MAE:0.14859358783433269\n",
      "Epoch: 0456; RMSE:0.18873940269213424; MAE:0.1482565731910694\n",
      "Epoch: 0459; RMSE:0.1887386060545357; MAE:0.1482781804213735\n",
      "Epoch: 0462; RMSE:0.18803860714757234; MAE:0.14735387634238267\n",
      "Epoch: 0465; RMSE:0.1879345931783342; MAE:0.14724060104017656\n",
      "Epoch: 0468; RMSE:0.18893531815540207; MAE:0.14840306303185183\n",
      "Epoch: 0471; RMSE:0.1876935917197574; MAE:0.14684273882250842\n",
      "Epoch: 0474; RMSE:0.18817090766899816; MAE:0.14750755841768623\n",
      "Epoch: 0477; RMSE:0.18827966659277023; MAE:0.14762632382816485\n",
      "Epoch: 0480; RMSE:0.18782485505794247; MAE:0.1471653290450777\n",
      "Epoch: 0483; RMSE:0.1879378683885592; MAE:0.14718894776793856\n",
      "Epoch: 0486; RMSE:0.18862874076242667; MAE:0.14782972558851515\n",
      "Epoch: 0489; RMSE:0.18886523601257368; MAE:0.14836667229224249\n",
      "Epoch: 0492; RMSE:0.18814146558255426; MAE:0.147058028292945\n",
      "Epoch: 0495; RMSE:0.18781733527067795; MAE:0.14705264241312097\n",
      "Epoch: 0498; RMSE:0.19026618059731668; MAE:0.1496488977683351\n",
      "CPU times: user 36min 4s, sys: 2min 1s, total: 38min 6s\n",
      "Wall time: 30min 49s\n"
     ]
    },
    {
     "data": {
      "text/plain": [
       "0.17179290591154694"
      ]
     },
     "execution_count": 8,
     "metadata": {},
     "output_type": "execute_result"
    }
   ],
   "source": [
    "%%time\n",
    "df = pd.read_csv(\"data/rating.csv\")\n",
    "utils.evaluate_autorec(df)"
   ]
  },
  {
   "cell_type": "code",
   "execution_count": null,
   "id": "a3498a58",
   "metadata": {},
   "outputs": [],
   "source": []
  }
 ],
 "metadata": {
  "interpreter": {
   "hash": "b3e1161755073e6513cb605fe52f527cb9d24a6594f5d14054f4b26b83b3f169"
  },
  "kernelspec": {
   "display_name": "Python 3 (ipykernel)",
   "language": "python",
   "name": "python3"
  },
  "language_info": {
   "codemirror_mode": {
    "name": "ipython",
    "version": 3
   },
   "file_extension": ".py",
   "mimetype": "text/x-python",
   "name": "python",
   "nbconvert_exporter": "python",
   "pygments_lexer": "ipython3",
   "version": "3.8.10"
  }
 },
 "nbformat": 4,
 "nbformat_minor": 5
}
