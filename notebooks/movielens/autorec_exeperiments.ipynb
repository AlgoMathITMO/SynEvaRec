{
 "cells": [
  {
   "cell_type": "code",
   "execution_count": 1,
   "id": "958ba6f4",
   "metadata": {},
   "outputs": [],
   "source": [
    "import pandas as pd\n",
    "from numpy import random as npr\n",
    "from modules import utils"
   ]
  },
  {
   "cell_type": "code",
   "execution_count": 2,
   "id": "5c30d696",
   "metadata": {},
   "outputs": [],
   "source": [
    "SEED = 2021\n",
    "npr.seed(SEED)"
   ]
  },
  {
   "cell_type": "code",
   "execution_count": 3,
   "id": "9d11bd4a",
   "metadata": {
    "scrolled": true
   },
   "outputs": [
    {
     "name": "stderr",
     "output_type": "stream",
     "text": [
      "WARNING:root:\n",
      "DeepCTR-PyTorch version 0.2.7 detected. Your version is 0.2.5.\n",
      "Use `pip install -U deepctr-torch` to upgrade.Changelog: https://github.com/shenweichen/DeepCTR-Torch/releases/tag/v0.2.7\n"
     ]
    },
    {
     "name": "stdout",
     "output_type": "stream",
     "text": [
      "Load data finished. Number of users: 6040 Number of items: 3706\n",
      "IAutoRec.\n",
      "WARNING:tensorflow:From /root/.cache/pypoetry/virtualenvs/synevarec-TVdshFRi-py3.8/lib/python3.8/site-packages/tensorflow/python/ops/resource_variable_ops.py:1659: calling BaseResourceVariable.__init__ (from tensorflow.python.ops.resource_variable_ops) with constraint is deprecated and will be removed in a future version.\n",
      "Instructions for updating:\n",
      "If using Keras pass *_constraint arguments to layers.\n"
     ]
    },
    {
     "name": "stderr",
     "output_type": "stream",
     "text": [
      "2021-08-10 06:43:47.589506: I tensorflow/core/platform/cpu_feature_guard.cc:143] Your CPU supports instructions that this TensorFlow binary was not compiled to use: AVX2 AVX512F FMA\n",
      "2021-08-10 06:43:47.597549: I tensorflow/core/platform/profile_utils/cpu_utils.cc:102] CPU Frequency: 2494140000 Hz\n",
      "2021-08-10 06:43:47.597724: I tensorflow/compiler/xla/service/service.cc:168] XLA service 0x7efde4000b60 initialized for platform Host (this does not guarantee that XLA will be used). Devices:\n",
      "2021-08-10 06:43:47.597747: I tensorflow/compiler/xla/service/service.cc:176]   StreamExecutor device (0): Host, Default Version\n",
      "2021-08-10 06:43:47.600372: W tensorflow/stream_executor/platform/default/dso_loader.cc:55] Could not load dynamic library 'libcuda.so.1'; dlerror: libcuda.so.1: cannot open shared object file: No such file or directory\n",
      "2021-08-10 06:43:47.600400: E tensorflow/stream_executor/cuda/cuda_driver.cc:313] failed call to cuInit: UNKNOWN ERROR (303)\n",
      "2021-08-10 06:43:47.600424: I tensorflow/stream_executor/cuda/cuda_diagnostics.cc:156] kernel driver does not appear to be running on this host (research-latest-2-m-2vcpu-16gb-ams3-01): /proc/driver/nvidia/version does not exist\n",
      "WARNING:tensorflow:From /root/.cache/pypoetry/virtualenvs/synevarec-TVdshFRi-py3.8/lib/python3.8/site-packages/tensorflow/python/ops/resource_variable_ops.py:1659: calling BaseResourceVariable.__init__ (from tensorflow.python.ops.resource_variable_ops) with constraint is deprecated and will be removed in a future version.\n",
      "Instructions for updating:\n",
      "If using Keras pass *_constraint arguments to layers.\n"
     ]
    },
    {
     "name": "stdout",
     "output_type": "stream",
     "text": [
      "WARNING:tensorflow:From /root/ws/SynEvaRec/modules/modules/models.py:103: calling dropout (from tensorflow.python.ops.nn_ops) with keep_prob is deprecated and will be removed in a future version.\n",
      "Instructions for updating:\n",
      "Please use `rate` instead of `keep_prob`. Rate should be set to `rate = 1 - keep_prob`.\n"
     ]
    },
    {
     "name": "stderr",
     "output_type": "stream",
     "text": [
      "WARNING:tensorflow:From /root/ws/SynEvaRec/modules/modules/models.py:103: calling dropout (from tensorflow.python.ops.nn_ops) with keep_prob is deprecated and will be removed in a future version.\n",
      "Instructions for updating:\n",
      "Please use `rate` instead of `keep_prob`. Rate should be set to `rate = 1 - keep_prob`.\n"
     ]
    },
    {
     "name": "stdout",
     "output_type": "stream",
     "text": [
      "Network built\n",
      "Epoch: 0000; RMSE:0.24631128239448502; MAE:0.19352556505105042\n",
      "Epoch: 0003; RMSE:0.20662718558394014; MAE:0.16865199640295644\n",
      "Epoch: 0006; RMSE:0.19050209714656205; MAE:0.15179304420360515\n",
      "Epoch: 0009; RMSE:0.1868493569108845; MAE:0.1470646763420728\n",
      "Epoch: 0012; RMSE:0.18484266517596268; MAE:0.14609042376509876\n",
      "Epoch: 0015; RMSE:0.18293966338374243; MAE:0.14445570756803608\n",
      "Epoch: 0018; RMSE:0.18145178284874366; MAE:0.14315700522725164\n",
      "Epoch: 0021; RMSE:0.18001971618466786; MAE:0.14178786257395679\n",
      "Epoch: 0024; RMSE:0.1786287865494927; MAE:0.14091151587754555\n",
      "Epoch: 0027; RMSE:0.17731054476684355; MAE:0.13941548399363174\n",
      "Epoch: 0030; RMSE:0.1762148542908691; MAE:0.13868728236734182\n",
      "Epoch: 0033; RMSE:0.17551544730265123; MAE:0.13808812818948848\n",
      "Epoch: 0036; RMSE:0.1749058642227231; MAE:0.13734221445671446\n",
      "Epoch: 0039; RMSE:0.17420136688751844; MAE:0.13691623342297887\n",
      "Epoch: 0042; RMSE:0.17394331968581803; MAE:0.13655306882706436\n",
      "Epoch: 0045; RMSE:0.173400508433643; MAE:0.13588354398187338\n",
      "Epoch: 0048; RMSE:0.17326230953622238; MAE:0.1361645799317033\n",
      "Epoch: 0051; RMSE:0.17298645719178238; MAE:0.135693388415894\n",
      "Epoch: 0054; RMSE:0.17273974582892715; MAE:0.13534167626577095\n",
      "Epoch: 0057; RMSE:0.17223340096471199; MAE:0.13480273941444598\n",
      "Epoch: 0060; RMSE:0.17199335520241724; MAE:0.13476187845443388\n",
      "Epoch: 0063; RMSE:0.1721273432039243; MAE:0.13448679276597073\n",
      "Epoch: 0066; RMSE:0.1718306430893943; MAE:0.1343013829374658\n",
      "Epoch: 0069; RMSE:0.1718678550398143; MAE:0.13451189066292693\n",
      "Epoch: 0072; RMSE:0.17181535073330848; MAE:0.13449414316905722\n",
      "Epoch: 0075; RMSE:0.171870216054913; MAE:0.13439007638777015\n",
      "Epoch: 0078; RMSE:0.17204928842136377; MAE:0.13448426720489043\n",
      "Epoch: 0081; RMSE:0.17207941727512505; MAE:0.13441504160167989\n",
      "Epoch: 0084; RMSE:0.17217663060480928; MAE:0.1342266861019237\n",
      "Epoch: 0087; RMSE:0.17228540202505702; MAE:0.1343966248147035\n",
      "Epoch: 0090; RMSE:0.1723113278424378; MAE:0.13425144213364307\n",
      "Epoch: 0093; RMSE:0.17281357853058982; MAE:0.13524747830357717\n",
      "Epoch: 0096; RMSE:0.1724680131309377; MAE:0.13437202487113564\n",
      "Epoch: 0099; RMSE:0.17330495227706855; MAE:0.13559678497735025\n",
      "Epoch: 0102; RMSE:0.17310970578066498; MAE:0.13499054904733457\n",
      "Epoch: 0105; RMSE:0.17348172498859435; MAE:0.13542609051388055\n",
      "Epoch: 0108; RMSE:0.17366808754144533; MAE:0.13547817118995556\n",
      "Epoch: 0111; RMSE:0.17397022827487538; MAE:0.1354003737256101\n",
      "Epoch: 0114; RMSE:0.17420379902754768; MAE:0.13607986449364884\n",
      "Epoch: 0117; RMSE:0.17454861805934055; MAE:0.1364249334746783\n",
      "Epoch: 0120; RMSE:0.17471725917128939; MAE:0.13654630089350736\n",
      "Epoch: 0123; RMSE:0.17499428300501974; MAE:0.13662594611611772\n",
      "Epoch: 0126; RMSE:0.17486182185523552; MAE:0.13622163187676273\n",
      "Epoch: 0129; RMSE:0.17525471586182162; MAE:0.13650745480555526\n",
      "Epoch: 0132; RMSE:0.17603861918049832; MAE:0.13743455875377392\n",
      "Epoch: 0135; RMSE:0.17586077538447611; MAE:0.13713842208013916\n",
      "Epoch: 0138; RMSE:0.17682447313276092; MAE:0.13826468815724122\n",
      "Epoch: 0141; RMSE:0.17717155140286367; MAE:0.1385227962009449\n",
      "Epoch: 0144; RMSE:0.1772562537318176; MAE:0.1385932270928791\n",
      "Epoch: 0147; RMSE:0.1768736753702482; MAE:0.1379390289705294\n",
      "Epoch: 0150; RMSE:0.17745119767808723; MAE:0.13859145492340852\n",
      "Epoch: 0153; RMSE:0.17768632209157662; MAE:0.13876975916055742\n",
      "Epoch: 0156; RMSE:0.17745162859932284; MAE:0.13843637805992823\n",
      "Epoch: 0159; RMSE:0.17761502880067218; MAE:0.13851391546649838\n",
      "Epoch: 0162; RMSE:0.17804041135171078; MAE:0.1389771410084358\n",
      "Epoch: 0165; RMSE:0.17839016665901208; MAE:0.1392861330297845\n",
      "Epoch: 0168; RMSE:0.17840206759654223; MAE:0.13929185653723453\n",
      "Epoch: 0171; RMSE:0.17917360274637006; MAE:0.14016511789288066\n",
      "Epoch: 0174; RMSE:0.1790007328236944; MAE:0.13969702764705175\n",
      "Epoch: 0177; RMSE:0.18004319762126578; MAE:0.14098648144050793\n",
      "Epoch: 0180; RMSE:0.17943058922281735; MAE:0.13998746525241013\n",
      "Epoch: 0183; RMSE:0.17986862899951747; MAE:0.1404838001891742\n",
      "Epoch: 0186; RMSE:0.17998371047079145; MAE:0.1405485732543823\n",
      "Epoch: 0189; RMSE:0.18035782098847775; MAE:0.14099372525714712\n",
      "Epoch: 0192; RMSE:0.18022773143998164; MAE:0.1407855214606073\n",
      "Epoch: 0195; RMSE:0.1802797970907798; MAE:0.14077404765631896\n",
      "Epoch: 0198; RMSE:0.18078512239591674; MAE:0.14138749894128383\n",
      "Epoch: 0201; RMSE:0.18026144929418933; MAE:0.14046113606032765\n",
      "Epoch: 0204; RMSE:0.1811275777840271; MAE:0.14166576346041826\n",
      "Epoch: 0207; RMSE:0.18128633200189226; MAE:0.14176220492778083\n",
      "Epoch: 0210; RMSE:0.18110629075264678; MAE:0.1414476024244172\n",
      "Epoch: 0213; RMSE:0.1813443787569651; MAE:0.1418461513376543\n",
      "Epoch: 0216; RMSE:0.18214004676395637; MAE:0.14268566879382938\n",
      "Epoch: 0219; RMSE:0.1812485564769881; MAE:0.14112338086671758\n",
      "Epoch: 0222; RMSE:0.18247328829066511; MAE:0.14284354264897944\n",
      "Epoch: 0225; RMSE:0.18165960819077012; MAE:0.1417534018091131\n",
      "Epoch: 0228; RMSE:0.18211229287373285; MAE:0.14232482805787347\n",
      "Epoch: 0231; RMSE:0.1823561388944902; MAE:0.14266350238675446\n",
      "Epoch: 0234; RMSE:0.18278148911798858; MAE:0.1430905147957672\n",
      "Epoch: 0237; RMSE:0.18269758257875318; MAE:0.1430332554462416\n",
      "Epoch: 0240; RMSE:0.18213001674155693; MAE:0.14232570980984846\n",
      "Epoch: 0243; RMSE:0.18302654803386356; MAE:0.14321197693484194\n",
      "Epoch: 0246; RMSE:0.1825752085721552; MAE:0.14250562912658432\n",
      "Epoch: 0249; RMSE:0.18409878513564337; MAE:0.14433436787416742\n",
      "Epoch: 0252; RMSE:0.18374368264072927; MAE:0.14386333243782648\n",
      "Epoch: 0255; RMSE:0.18284156263848148; MAE:0.14276815625870953\n",
      "Epoch: 0258; RMSE:0.18307289473934435; MAE:0.14303375167330606\n",
      "Epoch: 0261; RMSE:0.18412958517211914; MAE:0.14421933298624126\n",
      "Epoch: 0264; RMSE:0.18385803808716458; MAE:0.14403994883157012\n",
      "Epoch: 0267; RMSE:0.18319595981376163; MAE:0.14300640242757848\n",
      "Epoch: 0270; RMSE:0.18626189969935214; MAE:0.14660308298343444\n",
      "Epoch: 0273; RMSE:0.1847677519314252; MAE:0.14475939106343386\n",
      "Epoch: 0276; RMSE:0.18353402114842612; MAE:0.14356657439919868\n",
      "Epoch: 0279; RMSE:0.18352030347826445; MAE:0.14309132586280907\n",
      "Epoch: 0282; RMSE:0.18418373923012005; MAE:0.14414260736799747\n",
      "Epoch: 0285; RMSE:0.1842806069460026; MAE:0.14403403375094728\n",
      "Epoch: 0288; RMSE:0.18568074194717518; MAE:0.14579386995990576\n",
      "Epoch: 0291; RMSE:0.18380220124308946; MAE:0.14357107018739407\n",
      "Epoch: 0294; RMSE:0.18664164139078673; MAE:0.146676686277509\n",
      "Epoch: 0297; RMSE:0.18374930649840784; MAE:0.14332763873162443\n",
      "Epoch: 0300; RMSE:0.18539312642521316; MAE:0.14538554567134684\n",
      "Epoch: 0303; RMSE:0.1855087205112272; MAE:0.14542016440562594\n",
      "Epoch: 0306; RMSE:0.18505160842852833; MAE:0.14508716052529744\n",
      "Epoch: 0309; RMSE:0.18474693332892286; MAE:0.14453784275476594\n",
      "Epoch: 0312; RMSE:0.18612901637108645; MAE:0.14613399919706968\n",
      "Epoch: 0315; RMSE:0.18574704068076678; MAE:0.14549404243025946\n",
      "Epoch: 0318; RMSE:0.18527435075173804; MAE:0.14496733329782846\n",
      "Epoch: 0321; RMSE:0.18481089981643514; MAE:0.14435759097890816\n",
      "Epoch: 0324; RMSE:0.18557652523819326; MAE:0.14549136379014097\n",
      "Epoch: 0327; RMSE:0.18580327075395217; MAE:0.1456186291773783\n",
      "Epoch: 0330; RMSE:0.18567439692563983; MAE:0.14550745625959013\n",
      "Epoch: 0333; RMSE:0.18727700469016345; MAE:0.1471316843631382\n",
      "Epoch: 0336; RMSE:0.18475603661348722; MAE:0.14407750904531694\n",
      "Epoch: 0339; RMSE:0.18642075858951598; MAE:0.146297197451363\n",
      "Epoch: 0342; RMSE:0.18596553525581078; MAE:0.14562541950993127\n",
      "Epoch: 0345; RMSE:0.18509230795605527; MAE:0.14450046266979885\n",
      "Epoch: 0348; RMSE:0.1857145855052544; MAE:0.14504499649431765\n",
      "Epoch: 0351; RMSE:0.18645045051572068; MAE:0.1462203607199368\n",
      "Epoch: 0354; RMSE:0.1871635678173275; MAE:0.14698089696844305\n",
      "Epoch: 0357; RMSE:0.1862051196333074; MAE:0.14581449207497588\n",
      "Epoch: 0360; RMSE:0.18739724815691136; MAE:0.1472478628635136\n",
      "Epoch: 0363; RMSE:0.18821588498877564; MAE:0.14803946203215299\n",
      "Epoch: 0366; RMSE:0.18802646949569266; MAE:0.14780291027784492\n",
      "Epoch: 0369; RMSE:0.18665574267850524; MAE:0.1462657896294282\n",
      "Epoch: 0372; RMSE:0.1863245305657115; MAE:0.14586920215403515\n",
      "Epoch: 0375; RMSE:0.1864035821277151; MAE:0.14603699779223886\n",
      "Epoch: 0378; RMSE:0.18601969323656103; MAE:0.14544745627730776\n",
      "Epoch: 0381; RMSE:0.18655806359851587; MAE:0.14610334536920105\n",
      "Epoch: 0384; RMSE:0.18697332957923748; MAE:0.14662842128214323\n",
      "Epoch: 0387; RMSE:0.18644647253015376; MAE:0.14600705738799274\n",
      "Epoch: 0390; RMSE:0.18657682310785761; MAE:0.14614580591966778\n"
     ]
    },
    {
     "name": "stdout",
     "output_type": "stream",
     "text": [
      "Epoch: 0393; RMSE:0.18844624346687808; MAE:0.14800365108309094\n",
      "Epoch: 0396; RMSE:0.187416478767034; MAE:0.14689799819869506\n",
      "Epoch: 0399; RMSE:0.18647032260321894; MAE:0.14561326205059705\n",
      "Epoch: 0402; RMSE:0.1876594513267333; MAE:0.14727476841308423\n",
      "Epoch: 0405; RMSE:0.1869212833528929; MAE:0.14624009931414708\n",
      "Epoch: 0408; RMSE:0.18753809984766723; MAE:0.1471983668443133\n",
      "Epoch: 0411; RMSE:0.18855838912524006; MAE:0.1481384664429036\n",
      "Epoch: 0414; RMSE:0.18827138612423952; MAE:0.14773431049207034\n",
      "Epoch: 0417; RMSE:0.18782396619812228; MAE:0.14732404207477168\n",
      "Epoch: 0420; RMSE:0.1871029407474097; MAE:0.14648804863870013\n",
      "Epoch: 0423; RMSE:0.18844814581639285; MAE:0.14792971456186202\n",
      "Epoch: 0426; RMSE:0.19002504801227196; MAE:0.14959521697928688\n",
      "Epoch: 0429; RMSE:0.1867640999400321; MAE:0.14577620630333893\n",
      "Epoch: 0432; RMSE:0.18731043739914274; MAE:0.14668698454818258\n",
      "Epoch: 0435; RMSE:0.1873597175885583; MAE:0.14673038876415803\n",
      "Epoch: 0438; RMSE:0.18680949570536723; MAE:0.14601695656503239\n",
      "Epoch: 0441; RMSE:0.18801089931491766; MAE:0.1475441777187061\n",
      "Epoch: 0444; RMSE:0.18679875594386267; MAE:0.14610808406433817\n",
      "Epoch: 0447; RMSE:0.1902026092529461; MAE:0.14990179559229821\n",
      "Epoch: 0450; RMSE:0.18919882305789432; MAE:0.1486242208015577\n",
      "Epoch: 0453; RMSE:0.18921155631424186; MAE:0.1486190841373278\n",
      "Epoch: 0456; RMSE:0.18799629646496485; MAE:0.14740981992660684\n",
      "Epoch: 0459; RMSE:0.19028779587954733; MAE:0.14978175134999006\n",
      "Epoch: 0462; RMSE:0.18930655050508707; MAE:0.1486199466999652\n",
      "Epoch: 0465; RMSE:0.18805771998244358; MAE:0.14742622285397086\n",
      "Epoch: 0468; RMSE:0.18776176858675725; MAE:0.14717714973922363\n",
      "Epoch: 0471; RMSE:0.18904936559632873; MAE:0.14842928854886653\n",
      "Epoch: 0474; RMSE:0.18861629477277791; MAE:0.14796551006653355\n",
      "Epoch: 0477; RMSE:0.1886940307630263; MAE:0.14794415753377255\n",
      "Epoch: 0480; RMSE:0.18888541228488487; MAE:0.14832416733940396\n",
      "Epoch: 0483; RMSE:0.18839079838644662; MAE:0.14781964757056834\n",
      "Epoch: 0486; RMSE:0.18853657769883903; MAE:0.14800538155552695\n",
      "Epoch: 0489; RMSE:0.18870062751039968; MAE:0.14805985641442376\n",
      "Epoch: 0492; RMSE:0.1907157887407798; MAE:0.15039001844101116\n",
      "Epoch: 0495; RMSE:0.1895244082686075; MAE:0.14891591435404058\n",
      "Epoch: 0498; RMSE:0.18950026880265589; MAE:0.14872537556787346\n",
      "CPU times: user 51min 59s, sys: 1min 37s, total: 53min 36s\n",
      "Wall time: 57min 34s\n"
     ]
    },
    {
     "data": {
      "text/plain": [
       "0.17181535073330848"
      ]
     },
     "execution_count": 3,
     "metadata": {},
     "output_type": "execute_result"
    }
   ],
   "source": [
    "%%time\n",
    "df = pd.read_csv(\"data/rating.csv\")\n",
    "utils.evaluate_autorec(df)"
   ]
  }
 ],
 "metadata": {
  "interpreter": {
   "hash": "b3e1161755073e6513cb605fe52f527cb9d24a6594f5d14054f4b26b83b3f169"
  },
  "kernelspec": {
   "display_name": "Python 3 (ipykernel)",
   "language": "python",
   "name": "python3"
  },
  "language_info": {
   "codemirror_mode": {
    "name": "ipython",
    "version": 3
   },
   "file_extension": ".py",
   "mimetype": "text/x-python",
   "name": "python",
   "nbconvert_exporter": "python",
   "pygments_lexer": "ipython3",
   "version": "3.8.10"
  }
 },
 "nbformat": 4,
 "nbformat_minor": 5
}
