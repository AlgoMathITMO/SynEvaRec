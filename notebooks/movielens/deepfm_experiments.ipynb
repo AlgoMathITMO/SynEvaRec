{
 "cells": [
  {
   "cell_type": "code",
   "execution_count": null,
   "id": "4447318a",
   "metadata": {},
   "outputs": [],
   "source": [
    "import os\n",
    "import sys\n",
    "import datetime\n",
    "import numpy as np\n",
    "import pandas as pd\n",
    "from numpy import random as npr"
   ]
  },
  {
   "cell_type": "code",
   "execution_count": null,
   "id": "de20bc9d",
   "metadata": {},
   "outputs": [],
   "source": []
  },
  {
   "cell_type": "code",
   "execution_count": 3,
   "id": "de60b29c",
   "metadata": {},
   "outputs": [],
   "source": [
    "from modules import deepfm, models\n"
   ]
  },
  {
   "cell_type": "code",
   "execution_count": null,
   "id": "d936d974",
   "metadata": {},
   "outputs": [],
   "source": []
  },
  {
   "cell_type": "code",
   "execution_count": null,
   "id": "4f40ed6f",
   "metadata": {},
   "outputs": [],
   "source": []
  },
  {
   "cell_type": "code",
   "execution_count": 4,
   "id": "52d951c5",
   "metadata": {},
   "outputs": [],
   "source": [
    "def pretrain_deepfm_model(*, data_loader, train_set, test_set):\n",
    "    nn_train_input = data_loader.load(train_set)\n",
    "    nn_test_input = data_loader.load(test_set)\n",
    "    y = train_set[\"rating\"].values\n",
    "    \n",
    "    merged_feats = merge_feats(nn_train_input.dnn_feats, nn_test_input.dnn_feats)\n",
    "    deepfm = deepfm.train_deepfm(merged_feats, nn_train_input.feat_names, x=nn_train_input.data, y=y)\n",
    "    return deepfm\n"
   ]
  },
  {
   "cell_type": "code",
   "execution_count": null,
   "id": "1b4b351e",
   "metadata": {},
   "outputs": [],
   "source": []
  }
 ],
 "metadata": {
  "kernelspec": {
   "display_name": "Python 3 (ipykernel)",
   "language": "python",
   "name": "python3"
  },
  "language_info": {
   "codemirror_mode": {
    "name": "ipython",
    "version": 3
   },
   "file_extension": ".py",
   "mimetype": "text/x-python",
   "name": "python",
   "nbconvert_exporter": "python",
   "pygments_lexer": "ipython3",
   "version": "3.8.10"
  }
 },
 "nbformat": 4,
 "nbformat_minor": 5
}
