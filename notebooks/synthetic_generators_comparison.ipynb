{
 "metadata": {
  "language_info": {
   "codemirror_mode": {
    "name": "ipython",
    "version": 3
   },
   "file_extension": ".py",
   "mimetype": "text/x-python",
   "name": "python",
   "nbconvert_exporter": "python",
   "pygments_lexer": "ipython3",
   "version": 3
  },
  "orig_nbformat": 2
 },
 "nbformat": 4,
 "nbformat_minor": 2,
 "cells": [
  {
   "cell_type": "code",
   "execution_count": null,
   "metadata": {},
   "outputs": [],
   "source": [
    "from sdv.tabular import CTGAN, GaussianCopula, CopulaGAN\n",
    "\n",
    "def _clean_dataset(df):\n",
    "    df = df.drop([\"userID\", \"placeID\"], axis=1) # Drop ids\n",
    "    df = df.astype(\"int64\", errors=\"ignore\") # Convert all numbers to int64\n",
    "    return df\n",
    "\n",
    "\n",
    "def fit_and_evaluate_models(df, models, sample_size, eval_kwargs):\n",
    "    result = pd.DataFrame()\n",
    "    for name, model in models.items():\n",
    "        model.fit(df)\n",
    "        eval_result = evaluate(df, model.sample(sample_size), **eval_kwargs)\n",
    "        eval_result[\"model_name\"] = name\n",
    "        result = pd.concat([result, eval_result])\n",
    "    \n",
    "    return result\n",
    "    "
   ]
  },
  {
   "cell_type": "code",
   "execution_count": null,
   "metadata": {},
   "outputs": [],
   "source": [
    "from sdv.evaluation import evaluate\n",
    "\n",
    "_comp_result = fit_and_evaluate_models(\n",
    "    df=_clean_dataset(merged_df),\n",
    "    models={\"GaussianCopula\": GaussianCopula(), \"CTGAN\": CTGAN(), \"CopulaGAN\": CopulaGAN()},\n",
    "    sample_size=1_000,\n",
    "    eval_kwargs={\"aggregate\": False}\n",
    ")"
   ]
  },
  {
   "cell_type": "code",
   "execution_count": null,
   "metadata": {},
   "outputs": [],
   "source": [
    "_comp_result"
   ]
  }
 ]
}